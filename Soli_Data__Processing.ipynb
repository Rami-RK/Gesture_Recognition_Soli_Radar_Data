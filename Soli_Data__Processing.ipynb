{
  "nbformat": 4,
  "nbformat_minor": 0,
  "metadata": {
    "kernelspec": {
      "display_name": "Python 3",
      "language": "python",
      "name": "python3"
    },
    "language_info": {
      "codemirror_mode": {
        "name": "ipython",
        "version": 3
      },
      "file_extension": ".py",
      "mimetype": "text/x-python",
      "name": "python",
      "nbconvert_exporter": "python",
      "pygments_lexer": "ipython3",
      "version": "3.7.1"
    },
    "colab": {
      "name": "Soli_Data_ Processing.ipynb",
      "provenance": [],
      "collapsed_sections": [
        "53yHxMRdVRQu"
      ],
      "toc_visible": true,
      "include_colab_link": true
    }
  },
  "cells": [
    {
      "cell_type": "markdown",
      "metadata": {
        "id": "view-in-github",
        "colab_type": "text"
      },
      "source": [
        "<a href=\"https://colab.research.google.com/github/Rami-RK/Gesture_Recognition_Soli_Radar_Data/blob/main/Soli_Data__Processing.ipynb\" target=\"_parent\"><img src=\"https://colab.research.google.com/assets/colab-badge.svg\" alt=\"Open In Colab\"/></a>"
      ]
    },
    {
      "cell_type": "code",
      "metadata": {
        "id": "h36vsd8AVRQE"
      },
      "source": [
        "import numpy as np\n",
        "import os\n",
        "%matplotlib inline\n",
        "from matplotlib import pyplot as plt, rcParams, rc\n",
        "rcParams['figure.figsize'] = 3, 6\n",
        "%precision 4\n",
        "np.set_printoptions(precision=4, linewidth=100)"
      ],
      "execution_count": null,
      "outputs": []
    },
    {
      "cell_type": "code",
      "metadata": {
        "id": "RlHhB_gVVRQV"
      },
      "source": [
        "labels = [i for i in range(0,11)] # gesture\n",
        "channel = [0,1,2,3] # data from 4 receiver antenas capturing \n",
        "# frame_number --> Not uniform, different frame number for different session\n",
        "# for uniformity only 20 frame have been selected for all the dataset\n",
        "instance = [i for i in range(0,25)] # each gesture 25 times from each users \n",
        "session = [i for i in range(0,10)] # 10 useers\n"
      ],
      "execution_count": 2,
      "outputs": []
    },
    {
      "cell_type": "markdown",
      "metadata": {
        "id": "oFBTKg9bVRQX"
      },
      "source": [
        "#### Making Path list for training data"
      ]
    },
    {
      "cell_type": "code",
      "metadata": {
        "id": "FtMyZRr-VRQY"
      },
      "source": [
        "folder_path = 'D:\\\\Project_IITD\\\\Soli Data\\\\dsp'\n",
        "train_list = []\n",
        "for x in labels:\n",
        "    for y in session:\n",
        "        for z in instance:\n",
        "            train_list.append(folder_path+'\\\\{0}_{1}_{2}.h5'.format(x,y,z))"
      ],
      "execution_count": 3,
      "outputs": []
    },
    {
      "cell_type": "code",
      "metadata": {
        "colab": {
          "base_uri": "https://localhost:8080/",
          "height": 35
        },
        "id": "b_skORgQVRQa",
        "outputId": "fb0281bc-88d5-4222-92d7-c00d69ec3827"
      },
      "source": [
        "train_list[0]"
      ],
      "execution_count": 4,
      "outputs": [
        {
          "output_type": "execute_result",
          "data": {
            "application/vnd.google.colaboratory.intrinsic+json": {
              "type": "string"
            },
            "text/plain": [
              "'D:\\\\Project_IITD\\\\Soli Data\\\\dsp\\\\0_0_0.h5'"
            ]
          },
          "metadata": {
            "tags": []
          },
          "execution_count": 4
        }
      ]
    },
    {
      "cell_type": "code",
      "metadata": {
        "id": "ZLHNi0PlVRQb",
        "outputId": "7ace5d54-a303-49dd-a47d-f783c32df9b1"
      },
      "source": [
        "len(train_list)"
      ],
      "execution_count": null,
      "outputs": [
        {
          "output_type": "execute_result",
          "data": {
            "text/plain": [
              "2750"
            ]
          },
          "metadata": {
            "tags": []
          },
          "execution_count": 6
        }
      ]
    },
    {
      "cell_type": "markdown",
      "metadata": {
        "id": "IISYxwBmVRQd"
      },
      "source": [
        "#### Path list of Data for cross-session performance evaluation (NOT USED)\n",
        " * And to explore personalized gesture recognition (i.e., classifier trained on a per-user basis)"
      ]
    },
    {
      "cell_type": "code",
      "metadata": {
        "id": "FTc5K16-VRQe"
      },
      "source": [
        "list_of_all=os.listdir('D:\\\\Project_IITD\\\\Soli Data\\\\dsp')"
      ],
      "execution_count": null,
      "outputs": []
    },
    {
      "cell_type": "code",
      "metadata": {
        "id": "zDlCgA5uVRQf",
        "outputId": "4b18de54-37bd-40e2-eae5-53358ce76add"
      },
      "source": [
        "list_of_all[0]"
      ],
      "execution_count": null,
      "outputs": [
        {
          "output_type": "execute_result",
          "data": {
            "text/plain": [
              "'0_0_0.h5'"
            ]
          },
          "metadata": {
            "tags": []
          },
          "execution_count": 8
        }
      ]
    },
    {
      "cell_type": "code",
      "metadata": {
        "id": "Fi2mA9fiVRQh",
        "outputId": "0b7350d8-e0f6-4d64-a252-82c502ccabd4"
      },
      "source": [
        "len(list_of_all)"
      ],
      "execution_count": null,
      "outputs": [
        {
          "output_type": "execute_result",
          "data": {
            "text/plain": [
              "5502"
            ]
          },
          "metadata": {
            "tags": []
          },
          "execution_count": 9
        }
      ]
    },
    {
      "cell_type": "code",
      "metadata": {
        "id": "QfcIrniRVRQi"
      },
      "source": [
        "per_user_list=[]\n",
        "for i  in list_of_all:\n",
        "    if ('D:\\\\Project_IITD\\\\Soli Data\\\\dsp\\\\'+i) not in train_list:\n",
        "        per_user_list.append('D:\\\\Project_IITD\\\\Soli Data\\\\dsp\\\\'+i)"
      ],
      "execution_count": null,
      "outputs": []
    },
    {
      "cell_type": "code",
      "metadata": {
        "id": "37WtZb0hVRQj",
        "outputId": "1061aa34-8115-4c30-cdf3-a4ab006f261b"
      },
      "source": [
        "len(per_user_list)"
      ],
      "execution_count": null,
      "outputs": [
        {
          "output_type": "execute_result",
          "data": {
            "text/plain": [
              "2752"
            ]
          },
          "metadata": {
            "tags": []
          },
          "execution_count": 11
        }
      ]
    },
    {
      "cell_type": "markdown",
      "metadata": {
        "id": "5PjpIRXCVRQl"
      },
      "source": [
        "#### Visualizing few samples of dataset"
      ]
    },
    {
      "cell_type": "code",
      "metadata": {
        "id": "F0ma6UcDVRQm"
      },
      "source": [
        "file_name = 'D:/Project_IITD/Soli Data/dsp/0_9_0.h5'"
      ],
      "execution_count": null,
      "outputs": []
    },
    {
      "cell_type": "code",
      "metadata": {
        "id": "y2LNajjUVRQn",
        "outputId": "0b9489b6-ce47-4f92-a933-0a10bcf012be"
      },
      "source": [
        "# code to extract data in python provided by author\n",
        "import h5py\n",
        "use_channel = 0 # data of channel 0 will be selected\n",
        "with h5py.File(file_name, 'r') as f:\n",
        "    # Data and label are numpy arrays\n",
        "    data = f['ch{}'.format(use_channel)][()]\n",
        "    label = f['label'][()]\n",
        "print(data.shape)\n",
        "print(type(data))\n",
        "print(len(label))\n",
        "## Data and label are numpy arrays"
      ],
      "execution_count": null,
      "outputs": [
        {
          "output_type": "stream",
          "text": [
            "(69, 1024)\n",
            "<class 'numpy.ndarray'>\n",
            "69\n"
          ],
          "name": "stdout"
        }
      ]
    },
    {
      "cell_type": "code",
      "metadata": {
        "id": "VJ_Xy5IrVRQo"
      },
      "source": [
        "data = data.reshape(data.shape[0],32,32) # reshaping the image into 32 X32"
      ],
      "execution_count": null,
      "outputs": []
    },
    {
      "cell_type": "code",
      "metadata": {
        "id": "rV7XpIzGVRQp",
        "outputId": "06038f72-2303-4cc5-9a20-a384f13d81e8"
      },
      "source": [
        "data.shape # 28 frames of 32 X 32 RDI images in any one channel of this sample"
      ],
      "execution_count": null,
      "outputs": [
        {
          "output_type": "execute_result",
          "data": {
            "text/plain": [
              "(69, 32, 32)"
            ]
          },
          "metadata": {
            "tags": []
          },
          "execution_count": 89
        }
      ]
    },
    {
      "cell_type": "code",
      "metadata": {
        "collapsed": true,
        "id": "eXVcVX9nVRQq",
        "outputId": "0a7fd67c-a194-4818-af4a-fe91f1b50e69"
      },
      "source": [
        "data[0] ## selcting frame zero"
      ],
      "execution_count": null,
      "outputs": [
        {
          "output_type": "execute_result",
          "data": {
            "text/plain": [
              "array([[0., 0., 0., ..., 0., 0., 0.],\n",
              "       [0., 0., 0., ..., 0., 0., 0.],\n",
              "       [0., 0., 0., ..., 0., 0., 0.],\n",
              "       ...,\n",
              "       [0., 0., 0., ..., 0., 0., 0.],\n",
              "       [0., 0., 0., ..., 0., 0., 0.],\n",
              "       [0., 0., 0., ..., 0., 0., 0.]], dtype=float32)"
            ]
          },
          "metadata": {
            "tags": []
          },
          "execution_count": 90
        }
      ]
    },
    {
      "cell_type": "code",
      "metadata": {
        "id": "_jY5hxX3VRQr",
        "outputId": "8e7dc82e-474e-42a8-f5a4-d082fafe9540"
      },
      "source": [
        "plt.imshow(data[0])#.set_cmap('hot')\n",
        "plt.show() # for channel 3"
      ],
      "execution_count": null,
      "outputs": [
        {
          "output_type": "display_data",
          "data": {
            "image/png": "[encoded data removed]",
            "text/plain": [
              "<Figure size 216x432 with 1 Axes>"
            ]
          },
          "metadata": {
            "tags": [],
            "needs_background": "light"
          }
        }
      ]
    },
    {
      "cell_type": "code",
      "metadata": {
        "id": "DL7KlZQrVRQs"
      },
      "source": [
        "def h5file_array(file_name,use_channel = 0):\n",
        "    \n",
        "    with h5py.File(file_name, 'r') as f:\n",
        "        data = f['ch{}'.format(use_channel)][()]\n",
        "        label = f['label'][()]\n",
        "    return data, label\n",
        "    "
      ],
      "execution_count": null,
      "outputs": []
    },
    {
      "cell_type": "code",
      "metadata": {
        "id": "ovqhbDAOVRQt"
      },
      "source": [
        "data, label = h5file_array(file_name,use_channel=1)\n",
        "data = data.reshape(data.shape[0],32,32)"
      ],
      "execution_count": null,
      "outputs": []
    },
    {
      "cell_type": "markdown",
      "metadata": {
        "id": "53yHxMRdVRQu"
      },
      "source": [
        "#### Plotting and visualiasing  20 frames"
      ]
    },
    {
      "cell_type": "markdown",
      "metadata": {
        "id": "t9NE07i4VRQu"
      },
      "source": [
        "#### Making funtions for multiple plots"
      ]
    },
    {
      "cell_type": "code",
      "metadata": {
        "id": "pfxANM1sVRQv"
      },
      "source": [
        "def plots(ims, interp=False, titles=None):\n",
        "    ims=np.array(ims)\n",
        "    mn,mx=ims.min(),ims.max()\n",
        "    f = plt.figure(figsize=(12,24))\n",
        "    for i in range(len(ims)):\n",
        "        sp=f.add_subplot(1, len(ims), i+1)\n",
        "        if not titles is None: sp.set_title(titles[i], fontsize=18)\n",
        "        plt.imshow(ims[i], interpolation=None if interp else 'none', vmin=mn,vmax=mx)\n",
        "\n",
        "def plot(im, interp=False):\n",
        "    f = plt.figure(figsize=(3,6), frameon=True)\n",
        "    plt.imshow(im, interpolation=None if interp else 'none')\n",
        "\n",
        "plt.gray()\n",
        "plt.close()"
      ],
      "execution_count": null,
      "outputs": []
    },
    {
      "cell_type": "code",
      "metadata": {
        "id": "cr7Wo8mbVRQw",
        "outputId": "22eee2ab-84f0-4388-f9c5-acf9a48de783"
      },
      "source": [
        "plots(data[:5], titles=label[:5])\n",
        "plots(data[5:10], titles=label[5:10])\n",
        "plots(data[10:15], titles=label[10:15])\n",
        "plots(data[15:20], titles=label[15:20])"
      ],
      "execution_count": null,
      "outputs": [
        {
          "output_type": "stream",
          "text": [
            "C:\\Users\\hP\\Anaconda3\\lib\\site-packages\\matplotlib\\text.py:1165: FutureWarning: elementwise comparison failed; returning scalar instead, but in the future will perform elementwise comparison\n",
            "  if s != self._text:\n"
          ],
          "name": "stderr"
        },
        {
          "output_type": "display_data",
          "data": {
            "image/png": "[encoded data removed]",
            "text/plain": [
              "<Figure size 864x1728 with 5 Axes>"
            ]
          },
          "metadata": {
            "tags": [],
            "needs_background": "light"
          }
        },
        {
          "output_type": "display_data",
          "data": {
            "image/png": "[encoded data removed]",
            "text/plain": [
              "<Figure size 864x1728 with 5 Axes>"
            ]
          },
          "metadata": {
            "tags": [],
            "needs_background": "light"
          }
        },
        {
          "output_type": "display_data",
          "data": {
            "image/png": "[encoded data removed]",
            "text/plain": [
              "<Figure size 864x1728 with 5 Axes>"
            ]
          },
          "metadata": {
            "tags": [],
            "needs_background": "light"
          }
        },
        {
          "output_type": "display_data",
          "data": {
            "image/png": "[encoded data removed]",
            "text/plain": [
              "<Figure size 864x1728 with 5 Axes>"
            ]
          },
          "metadata": {
            "tags": [],
            "needs_background": "light"
          }
        }
      ]
    },
    {
      "cell_type": "markdown",
      "metadata": {
        "id": "s8QvcDurVRQx"
      },
      "source": [
        "#### plotting another one sample for channel 1 and 3"
      ]
    },
    {
      "cell_type": "code",
      "metadata": {
        "id": "7xmjORBHVRQy",
        "outputId": "202ac4f0-3359-4eb7-af51-76bb13342f71"
      },
      "source": [
        "# Channel 1\n",
        "file_name1 = train_list[2000]\n",
        "data, label = h5file_array(file_name1,use_channel=1)\n",
        "data = data.reshape(data.shape[0],32,32)\n",
        "plots(data[:5], titles=label[:5])\n",
        "plots(data[5:10], titles=label[5:10])\n",
        "plots(data[10:15], titles=label[10:15])\n",
        "plots(data[15:20], titles=label[15:20])"
      ],
      "execution_count": null,
      "outputs": [
        {
          "output_type": "display_data",
          "data": {
            "image/png": "[encoded data removed]",
            "text/plain": [
              "<Figure size 864x1728 with 5 Axes>"
            ]
          },
          "metadata": {
            "tags": [],
            "needs_background": "light"
          }
        },
        {
          "output_type": "display_data",
          "data": {
            "image/png": "[encoded data removed]",
            "text/plain": [
              "<Figure size 864x1728 with 5 Axes>"
            ]
          },
          "metadata": {
            "tags": [],
            "needs_background": "light"
          }
        },
        {
          "output_type": "display_data",
          "data": {
            "image/png": "[encoded data removed]",
            "text/plain": [
              "<Figure size 864x1728 with 5 Axes>"
            ]
          },
          "metadata": {
            "tags": [],
            "needs_background": "light"
          }
        },
        {
          "output_type": "display_data",
          "data": {
            "image/png": "[encoded data removed]",
            "text/plain": [
              "<Figure size 864x1728 with 5 Axes>"
            ]
          },
          "metadata": {
            "tags": [],
            "needs_background": "light"
          }
        }
      ]
    },
    {
      "cell_type": "code",
      "metadata": {
        "id": "rEPxONsKVRQ0",
        "outputId": "a8c02067-ceb2-4a2a-ea50-76bf60013e66"
      },
      "source": [
        "# Channel 3\n",
        "file_name1 = train_list[2000]\n",
        "data, label = h5file_array(file_name1,use_channel=3)\n",
        "data = data.reshape(data.shape[0],32,32)\n",
        "plots(data[:5], titles=label[:5])\n",
        "plots(data[5:10], titles=label[5:10])\n",
        "plots(data[10:15], titles=label[10:15])\n",
        "plots(data[15:20], titles=label[15:20])"
      ],
      "execution_count": null,
      "outputs": [
        {
          "output_type": "display_data",
          "data": {
            "image/png": "[encoded data removed]",
            "text/plain": [
              "<Figure size 864x1728 with 5 Axes>"
            ]
          },
          "metadata": {
            "tags": [],
            "needs_background": "light"
          }
        },
        {
          "output_type": "display_data",
          "data": {
            "image/png": "[encoded data removed]",
            "text/plain": [
              "<Figure size 864x1728 with 5 Axes>"
            ]
          },
          "metadata": {
            "tags": [],
            "needs_background": "light"
          }
        },
        {
          "output_type": "display_data",
          "data": {
            "image/png": "[encoded data removed]",
            "text/plain": [
              "<Figure size 864x1728 with 5 Axes>"
            ]
          },
          "metadata": {
            "tags": [],
            "needs_background": "light"
          }
        },
        {
          "output_type": "display_data",
          "data": {
            "image/png": "[encoded data removed]",
            "text/plain": [
              "<Figure size 864x1728 with 5 Axes>"
            ]
          },
          "metadata": {
            "tags": [],
            "needs_background": "light"
          }
        }
      ]
    },
    {
      "cell_type": "markdown",
      "metadata": {
        "id": "1FHBrYaSVRQ1"
      },
      "source": [
        "### Making a numpy dataset in format [samples,frame, height,width,channel]\n",
        "### Label in format [samples,frame,1]"
      ]
    },
    {
      "cell_type": "code",
      "metadata": {
        "id": "JK2-r8O8VRQ2"
      },
      "source": [
        "dataset = np.zeros([len(train_list),20,32,32,4])"
      ],
      "execution_count": null,
      "outputs": []
    },
    {
      "cell_type": "code",
      "metadata": {
        "id": "STuHjxzcVRQ3"
      },
      "source": [
        "labels = np.zeros([len(train_list),20,1])"
      ],
      "execution_count": null,
      "outputs": []
    },
    {
      "cell_type": "code",
      "metadata": {
        "id": "GZlFZ3pbVRQ3",
        "outputId": "6dea192c-5808-4280-e351-78bc42bb5a2b"
      },
      "source": [
        "labels.shape"
      ],
      "execution_count": null,
      "outputs": [
        {
          "output_type": "execute_result",
          "data": {
            "text/plain": [
              "(2750, 20, 1)"
            ]
          },
          "metadata": {
            "tags": []
          },
          "execution_count": 70
        }
      ]
    },
    {
      "cell_type": "code",
      "metadata": {
        "id": "5xBbZjNAVRQ4"
      },
      "source": [
        "ch=0"
      ],
      "execution_count": null,
      "outputs": []
    },
    {
      "cell_type": "code",
      "metadata": {
        "id": "x4hk3IUKVRQ5",
        "outputId": "20861655-a26a-48fb-c37c-a6ec6e82441e"
      },
      "source": [
        "dataset[0,:,:,:,ch].shape"
      ],
      "execution_count": null,
      "outputs": [
        {
          "output_type": "execute_result",
          "data": {
            "text/plain": [
              "(20, 32, 32)"
            ]
          },
          "metadata": {
            "tags": []
          },
          "execution_count": 72
        }
      ]
    },
    {
      "cell_type": "code",
      "metadata": {
        "id": "wBVIxjulVRQ6"
      },
      "source": [
        "i=2000\n",
        "ch = 1\n",
        "file_name = train_list[i]\n",
        "data, label = h5file_array(file_name,use_channel=ch)\n",
        "data = data.reshape(data.shape[0],32,32)\n",
        "data = data[:20,:,:]\n",
        "label = label[:20]\n",
        "dataset[i,:,:,:,ch] = data\n",
        "labels[i] = label"
      ],
      "execution_count": null,
      "outputs": []
    },
    {
      "cell_type": "code",
      "metadata": {
        "id": "snYLAnRHVRQ8"
      },
      "source": [
        "d1=dataset[2000,:,:,:,1]"
      ],
      "execution_count": null,
      "outputs": []
    },
    {
      "cell_type": "code",
      "metadata": {
        "collapsed": true,
        "id": "lnckql2XVRQ9",
        "outputId": "bd90b457-2085-4b25-8444-1710798d0ec0"
      },
      "source": [
        "d1"
      ],
      "execution_count": null,
      "outputs": [
        {
          "output_type": "execute_result",
          "data": {
            "text/plain": [
              "array([[[0., 0., 0., ..., 0., 0., 0.],\n",
              "        [0., 0., 0., ..., 0., 0., 0.],\n",
              "        [0., 0., 0., ..., 0., 0., 0.],\n",
              "        ...,\n",
              "        [0., 0., 0., ..., 0., 0., 0.],\n",
              "        [0., 0., 0., ..., 0., 0., 0.],\n",
              "        [0., 0., 0., ..., 0., 0., 0.]],\n",
              "\n",
              "       [[0., 0., 0., ..., 0., 0., 0.],\n",
              "        [0., 0., 0., ..., 0., 0., 0.],\n",
              "        [0., 0., 0., ..., 0., 0., 0.],\n",
              "        ...,\n",
              "        [0., 0., 0., ..., 0., 0., 0.],\n",
              "        [0., 0., 0., ..., 0., 0., 0.],\n",
              "        [0., 0., 0., ..., 0., 0., 0.]],\n",
              "\n",
              "       [[0., 0., 0., ..., 0., 0., 0.],\n",
              "        [0., 0., 0., ..., 0., 0., 0.],\n",
              "        [0., 0., 0., ..., 0., 0., 0.],\n",
              "        ...,\n",
              "        [0., 0., 0., ..., 0., 0., 0.],\n",
              "        [0., 0., 0., ..., 0., 0., 0.],\n",
              "        [0., 0., 0., ..., 0., 0., 0.]],\n",
              "\n",
              "       ...,\n",
              "\n",
              "       [[0., 0., 0., ..., 0., 0., 0.],\n",
              "        [0., 0., 0., ..., 0., 0., 0.],\n",
              "        [0., 0., 0., ..., 0., 0., 0.],\n",
              "        ...,\n",
              "        [0., 0., 0., ..., 0., 0., 0.],\n",
              "        [0., 0., 0., ..., 0., 0., 0.],\n",
              "        [0., 0., 0., ..., 0., 0., 0.]],\n",
              "\n",
              "       [[0., 0., 0., ..., 0., 0., 0.],\n",
              "        [0., 0., 0., ..., 0., 0., 0.],\n",
              "        [0., 0., 0., ..., 0., 0., 0.],\n",
              "        ...,\n",
              "        [0., 0., 0., ..., 0., 0., 0.],\n",
              "        [0., 0., 0., ..., 0., 0., 0.],\n",
              "        [0., 0., 0., ..., 0., 0., 0.]],\n",
              "\n",
              "       [[0., 0., 0., ..., 0., 0., 0.],\n",
              "        [0., 0., 0., ..., 0., 0., 0.],\n",
              "        [0., 0., 0., ..., 0., 0., 0.],\n",
              "        ...,\n",
              "        [0., 0., 0., ..., 0., 0., 0.],\n",
              "        [0., 0., 0., ..., 0., 0., 0.],\n",
              "        [0., 0., 0., ..., 0., 0., 0.]]])"
            ]
          },
          "metadata": {
            "tags": []
          },
          "execution_count": 75
        }
      ]
    },
    {
      "cell_type": "code",
      "metadata": {
        "collapsed": true,
        "id": "CXcXuIcyVRQ-",
        "outputId": "6ad65cbd-71d1-41dc-b923-19cf41ab8551"
      },
      "source": [
        "plots(d1[:5], titles=label[:5])\n",
        "plots(d1[5:10], titles=label[5:10])\n",
        "plots(d1[10:15], titles=label[10:15])\n",
        "plots(d1[15:20], titles=label[15:20])"
      ],
      "execution_count": null,
      "outputs": [
        {
          "output_type": "display_data",
          "data": {
            "image/png": "[encoded data removed]",
            "text/plain": [
              "<Figure size 864x1728 with 5 Axes>"
            ]
          },
          "metadata": {
            "tags": [],
            "needs_background": "light"
          }
        },
        {
          "output_type": "display_data",
          "data": {
            "image/png": "[encoded data removed]",
            "text/plain": [
              "<Figure size 864x1728 with 5 Axes>"
            ]
          },
          "metadata": {
            "tags": [],
            "needs_background": "light"
          }
        },
        {
          "output_type": "display_data",
          "data": {
            "image/png": "[encoded data removed]",
            "text/plain": [
              "<Figure size 864x1728 with 5 Axes>"
            ]
          },
          "metadata": {
            "tags": [],
            "needs_background": "light"
          }
        },
        {
          "output_type": "display_data",
          "data": {
            "image/png": "[encoded data removed]",
            "text/plain": [
              "<Figure size 864x1728 with 5 Axes>"
            ]
          },
          "metadata": {
            "tags": [],
            "needs_background": "light"
          }
        }
      ]
    },
    {
      "cell_type": "code",
      "metadata": {
        "id": "z0pVbdMeVRQ_"
      },
      "source": [
        "for i in range(len(train_list)):\n",
        "    for ch in range(4):\n",
        "        file_name = train_list[i]\n",
        "        data, label = h5file_array(file_name,use_channel=ch)\n",
        "        data = data.reshape(data.shape[0],32,32)\n",
        "        data = data[:20,:,:]\n",
        "        label = label[:20]\n",
        "        dataset[i,:,:,:,ch] = data\n",
        "        labels[i] = label"
      ],
      "execution_count": null,
      "outputs": []
    },
    {
      "cell_type": "code",
      "metadata": {
        "id": "wnLCyaNBVRRA",
        "outputId": "3419e4c0-1838-49f8-9c62-fa9cff2ee3cd"
      },
      "source": [
        "dataset.shape"
      ],
      "execution_count": null,
      "outputs": [
        {
          "output_type": "execute_result",
          "data": {
            "text/plain": [
              "(2750, 20, 32, 32, 4)"
            ]
          },
          "metadata": {
            "tags": []
          },
          "execution_count": 78
        }
      ]
    },
    {
      "cell_type": "code",
      "metadata": {
        "id": "z-2AHRW2VRRB",
        "outputId": "8682cc30-1856-44bd-ff64-8e2e495f8c02"
      },
      "source": [
        "labels.shape"
      ],
      "execution_count": null,
      "outputs": [
        {
          "output_type": "execute_result",
          "data": {
            "text/plain": [
              "(2750, 20, 1)"
            ]
          },
          "metadata": {
            "tags": []
          },
          "execution_count": 79
        }
      ]
    },
    {
      "cell_type": "markdown",
      "metadata": {
        "id": "nvo_emXeVRRC"
      },
      "source": [
        "#### Saving dataset and labels as numpy in disk "
      ]
    },
    {
      "cell_type": "code",
      "metadata": {
        "id": "98jP-NUgVRRC"
      },
      "source": [
        "np.save('D:\\\\Project_IITD\\\\Soli Data\\\\dsp\\\\data',dataset)"
      ],
      "execution_count": null,
      "outputs": []
    },
    {
      "cell_type": "code",
      "metadata": {
        "id": "Afs1bfywVRRD"
      },
      "source": [
        "np.save('D:\\\\Project_IITD\\\\Soli Data\\\\dsp\\\\labels',labels)"
      ],
      "execution_count": null,
      "outputs": []
    },
    {
      "cell_type": "code",
      "metadata": {
        "id": "ItDryg4xVRRE"
      },
      "source": [
        "# for loading the numpy data back\n",
        "#labels=np.load('D:\\\\Project_IITD\\\\Soli Data\\\\dsp\\\\labels.npy')"
      ],
      "execution_count": null,
      "outputs": []
    },
    {
      "cell_type": "code",
      "metadata": {
        "collapsed": true,
        "id": "miKWOKApVRRE",
        "outputId": "2ab4f03e-aa92-435a-850f-30addb989264"
      },
      "source": [
        "plots(dataset[2000,:1,:,:,3])"
      ],
      "execution_count": null,
      "outputs": [
        {
          "output_type": "display_data",
          "data": {
            "image/png": "[encoded data removed]",
            "text/plain": [
              "<Figure size 864x1728 with 1 Axes>"
            ]
          },
          "metadata": {
            "tags": [],
            "needs_background": "light"
          }
        }
      ]
    },
    {
      "cell_type": "code",
      "metadata": {
        "collapsed": true,
        "id": "BRnOoWxgVRRF",
        "outputId": "10ca9bed-091c-4f1e-f32a-b85346dd8f65"
      },
      "source": [
        "labels[2000,:,:]"
      ],
      "execution_count": null,
      "outputs": [
        {
          "output_type": "execute_result",
          "data": {
            "text/plain": [
              "array([[8.],\n",
              "       [8.],\n",
              "       [8.],\n",
              "       [8.],\n",
              "       [8.],\n",
              "       [8.],\n",
              "       [8.],\n",
              "       [8.],\n",
              "       [8.],\n",
              "       [8.],\n",
              "       [8.],\n",
              "       [8.],\n",
              "       [8.],\n",
              "       [8.],\n",
              "       [8.],\n",
              "       [8.],\n",
              "       [8.],\n",
              "       [8.],\n",
              "       [8.],\n",
              "       [8.]])"
            ]
          },
          "metadata": {
            "tags": []
          },
          "execution_count": 40
        }
      ]
    },
    {
      "cell_type": "code",
      "metadata": {
        "id": "FQWvRWe0VRRG",
        "outputId": "f66dba88-9957-4042-c6a7-d667bd4cddc6"
      },
      "source": [
        "plots(dataset[2000,:5,:,:,0])\n",
        "plots(dataset[2000,:5,:,:,1])\n",
        "plots(dataset[2000,:5,:,:,2])\n",
        "plots(dataset[2000,:5,:,:,3])"
      ],
      "execution_count": null,
      "outputs": [
        {
          "output_type": "display_data",
          "data": {
            "image/png": "[encoded data removed]",
            "text/plain": [
              "<Figure size 864x1728 with 5 Axes>"
            ]
          },
          "metadata": {
            "tags": [],
            "needs_background": "light"
          }
        },
        {
          "output_type": "display_data",
          "data": {
            "image/png": "[encoded data removed]",
            "text/plain": [
              "<Figure size 864x1728 with 5 Axes>"
            ]
          },
          "metadata": {
            "tags": [],
            "needs_background": "light"
          }
        },
        {
          "output_type": "display_data",
          "data": {
            "image/png": "[encoded data removed]",
            "text/plain": [
              "<Figure size 864x1728 with 5 Axes>"
            ]
          },
          "metadata": {
            "tags": [],
            "needs_background": "light"
          }
        },
        {
          "output_type": "display_data",
          "data": {
            "image/png": "[encoded data removed]",
            "text/plain": [
              "<Figure size 864x1728 with 5 Axes>"
            ]
          },
          "metadata": {
            "tags": [],
            "needs_background": "light"
          }
        }
      ]
    },
    {
      "cell_type": "code",
      "metadata": {
        "id": "iGS8LHcJVRRH",
        "outputId": "d1f1fb3d-9775-48a1-9082-4c3b2dd5e167"
      },
      "source": [
        "plots(dataset[2000,5:10,:,:,0])\n",
        "plots(dataset[2000,5:10,:,:,1])\n",
        "plots(dataset[2000,5:10,:,:,2])\n",
        "plots(dataset[2000,5:10,:,:,3])"
      ],
      "execution_count": null,
      "outputs": [
        {
          "output_type": "display_data",
          "data": {
            "image/png": "[encoded data removed]",
            "text/plain": [
              "<Figure size 864x1728 with 5 Axes>"
            ]
          },
          "metadata": {
            "tags": [],
            "needs_background": "light"
          }
        },
        {
          "output_type": "display_data",
          "data": {
            "image/png": "[encoded data removed]",
            "text/plain": [
              "<Figure size 864x1728 with 5 Axes>"
            ]
          },
          "metadata": {
            "tags": [],
            "needs_background": "light"
          }
        },
        {
          "output_type": "display_data",
          "data": {
            "image/png": "[encoded data removed]",
            "text/plain": [
              "<Figure size 864x1728 with 5 Axes>"
            ]
          },
          "metadata": {
            "tags": [],
            "needs_background": "light"
          }
        },
        {
          "output_type": "display_data",
          "data": {
            "image/png": "[encoded data removed]",
            "text/plain": [
              "<Figure size 864x1728 with 5 Axes>"
            ]
          },
          "metadata": {
            "tags": [],
            "needs_background": "light"
          }
        }
      ]
    },
    {
      "cell_type": "code",
      "metadata": {
        "id": "RpjwYhLkVRRI",
        "outputId": "862aca83-ce3d-474e-d018-1f12b73de6ed"
      },
      "source": [
        "plots(dataset[2000,10:15,:,:,0]) \n",
        "plots(dataset[2000,10:15,:,:,1]) \n",
        "plots(dataset[2000,10:15,:,:,2]) \n",
        "plots(dataset[2000,10:15,:,:,3]) "
      ],
      "execution_count": null,
      "outputs": [
        {
          "output_type": "display_data",
          "data": {
            "image/png": "[encoded data removed]",
            "text/plain": [
              "<Figure size 864x1728 with 5 Axes>"
            ]
          },
          "metadata": {
            "tags": [],
            "needs_background": "light"
          }
        },
        {
          "output_type": "display_data",
          "data": {
            "image/png": "[encoded data removed]",
            "text/plain": [
              "<Figure size 864x1728 with 5 Axes>"
            ]
          },
          "metadata": {
            "tags": [],
            "needs_background": "light"
          }
        },
        {
          "output_type": "display_data",
          "data": {
            "image/png": "[encoded data removed]",
            "text/plain": [
              "<Figure size 864x1728 with 5 Axes>"
            ]
          },
          "metadata": {
            "tags": [],
            "needs_background": "light"
          }
        },
        {
          "output_type": "display_data",
          "data": {
            "image/png": "[encoded data removed]",
            "text/plain": [
              "<Figure size 864x1728 with 5 Axes>"
            ]
          },
          "metadata": {
            "tags": [],
            "needs_background": "light"
          }
        }
      ]
    },
    {
      "cell_type": "code",
      "metadata": {
        "id": "37qPj0dHVRRJ",
        "outputId": "404ad59f-acf9-429c-c171-bf9716f0a515"
      },
      "source": [
        "plots(dataset[2000,15:20,:,:,0])\n",
        "plots(dataset[2000,15:20,:,:,1])\n",
        "plots(dataset[2000,15:20,:,:,2])\n",
        "plots(dataset[2000,15:20,:,:,3])"
      ],
      "execution_count": null,
      "outputs": [
        {
          "output_type": "display_data",
          "data": {
            "image/png": "[encoded data removed]",
            "text/plain": [
              "<Figure size 864x1728 with 5 Axes>"
            ]
          },
          "metadata": {
            "tags": [],
            "needs_background": "light"
          }
        },
        {
          "output_type": "display_data",
          "data": {
            "image/png": "[encoded data removed]",
            "text/plain": [
              "<Figure size 864x1728 with 5 Axes>"
            ]
          },
          "metadata": {
            "tags": [],
            "needs_background": "light"
          }
        },
        {
          "output_type": "display_data",
          "data": {
            "image/png": "[encoded data removed]",
            "text/plain": [
              "<Figure size 864x1728 with 5 Axes>"
            ]
          },
          "metadata": {
            "tags": [],
            "needs_background": "light"
          }
        },
        {
          "output_type": "display_data",
          "data": {
            "image/png": "[encoded data removed]",
            "text/plain": [
              "<Figure size 864x1728 with 5 Axes>"
            ]
          },
          "metadata": {
            "tags": [],
            "needs_background": "light"
          }
        }
      ]
    }
  ]
}
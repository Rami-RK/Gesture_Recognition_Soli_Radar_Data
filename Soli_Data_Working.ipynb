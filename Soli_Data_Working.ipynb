{
  "nbformat": 4,
  "nbformat_minor": 0,
  "metadata": {
    "colab": {
      "name": "Soli Data Working.ipynb",
      "provenance": [],
      "collapsed_sections": [],
      "toc_visible": true,
      "mount_file_id": "1Hhsl058q04y7DH0qvRtb3zjRxw-QWoSL",
      "authorship_tag": "ABX9TyMwXg5M2Dl4rjQusMEoxPIC",
      "include_colab_link": true
    },
    "kernelspec": {
      "name": "python3",
      "display_name": "Python 3"
    },
    "accelerator": "GPU"
  },
  "cells": [
    {
      "cell_type": "markdown",
      "metadata": {
        "id": "view-in-github",
        "colab_type": "text"
      },
      "source": [
        "<a href=\"https://colab.research.google.com/github/Rami-RK/Gesture_Recognition_Soli_Radar_Data/blob/main/Soli_Data_Working.ipynb\" target=\"_parent\"><img src=\"https://colab.research.google.com/assets/colab-badge.svg\" alt=\"Open In Colab\"/></a>"
      ]
    },
    {
      "cell_type": "code",
      "metadata": {
        "id": "cjVh6XMsdO3q"
      },
      "source": [
        "#importing  required libraries\r\n",
        "import numpy as np\r\n",
        "import matplotlib.pyplot as plt\r\n",
        "import seaborn as sns\r\n",
        "from sklearn.model_selection import train_test_split\r\n",
        "from sklearn.metrics import confusion_matrix\r\n",
        "from keras.utils import to_categorical\r\n",
        "from keras import Sequential\r\n",
        "from keras.layers import Dense, LSTM, Flatten, TimeDistributed, Conv2D,BatchNormalization,Activation, Dropout,MaxPooling2D,Reshape\r\n",
        "from keras.optimizers import RMSprop"
      ],
      "execution_count": 1,
      "outputs": []
    },
    {
      "cell_type": "code",
      "metadata": {
        "id": "pDBW3GL8k4vB"
      },
      "source": [
        ""
      ],
      "execution_count": 2,
      "outputs": []
    },
    {
      "cell_type": "code",
      "metadata": {
        "id": "1WEcGwMRIpD0"
      },
      "source": [
        "x_train=np.load('/content/drive/MyDrive/Soli_data/data.npy')\r\n",
        "y=np.load('/content/drive/MyDrive/Soli_data/labels.npy')"
      ],
      "execution_count": 11,
      "outputs": []
    },
    {
      "cell_type": "code",
      "metadata": {
        "colab": {
          "base_uri": "https://localhost:8080/"
        },
        "id": "NdVcejOeJlme",
        "outputId": "cf85fb7b-3b40-4be3-929d-b409e35caea1"
      },
      "source": [
        "x_train.shape"
      ],
      "execution_count": 12,
      "outputs": [
        {
          "output_type": "execute_result",
          "data": {
            "text/plain": [
              "(2750, 20, 32, 32, 4)"
            ]
          },
          "metadata": {
            "tags": []
          },
          "execution_count": 12
        }
      ]
    },
    {
      "cell_type": "code",
      "metadata": {
        "id": "5a7yaWpSjvVN"
      },
      "source": [
        "y_train=y[:,0]"
      ],
      "execution_count": 13,
      "outputs": []
    },
    {
      "cell_type": "code",
      "metadata": {
        "id": "OMvcyQ24EW3J"
      },
      "source": [
        "x_train,x_val,y_train,y_val=train_test_split(x_train,y_train,test_size=0.5)"
      ],
      "execution_count": 14,
      "outputs": []
    },
    {
      "cell_type": "code",
      "metadata": {
        "id": "VV7obBGcks-G"
      },
      "source": [
        "#One Hot Encoding\r\n",
        "y_train=to_categorical(y_train)\r\n",
        "y_val=to_categorical(y_val)\r\n"
      ],
      "execution_count": 15,
      "outputs": []
    },
    {
      "cell_type": "code",
      "metadata": {
        "colab": {
          "base_uri": "https://localhost:8080/"
        },
        "id": "BwER4p1uJTb5",
        "outputId": "ca9e8ee1-5eab-40b6-8ae2-93c8078a49f2"
      },
      "source": [
        "x_train.shape"
      ],
      "execution_count": 16,
      "outputs": [
        {
          "output_type": "execute_result",
          "data": {
            "text/plain": [
              "(1375, 20, 32, 32, 4)"
            ]
          },
          "metadata": {
            "tags": []
          },
          "execution_count": 16
        }
      ]
    },
    {
      "cell_type": "code",
      "metadata": {
        "colab": {
          "base_uri": "https://localhost:8080/"
        },
        "id": "8hVG9Usnmy6y",
        "outputId": "9de121ad-82c9-4bc0-eede-f5aa8711649f"
      },
      "source": [
        "y_train.shape"
      ],
      "execution_count": 17,
      "outputs": [
        {
          "output_type": "execute_result",
          "data": {
            "text/plain": [
              "(1375, 11)"
            ]
          },
          "metadata": {
            "tags": []
          },
          "execution_count": 17
        }
      ]
    },
    {
      "cell_type": "code",
      "metadata": {
        "colab": {
          "base_uri": "https://localhost:8080/"
        },
        "id": "SNmVUWJwfadY",
        "outputId": "ec70e8ed-2089-4d75-8ce3-7cfedfa36e10"
      },
      "source": [
        "y_train[4]"
      ],
      "execution_count": 18,
      "outputs": [
        {
          "output_type": "execute_result",
          "data": {
            "text/plain": [
              "array([0., 0., 0., 0., 0., 0., 0., 0., 1., 0., 0.], dtype=float32)"
            ]
          },
          "metadata": {
            "tags": []
          },
          "execution_count": 18
        }
      ]
    },
    {
      "cell_type": "code",
      "metadata": {
        "id": "CygjLndhhmN-"
      },
      "source": [
        "frame=20\r\n",
        "num_classes=11"
      ],
      "execution_count": 19,
      "outputs": []
    },
    {
      "cell_type": "code",
      "metadata": {
        "id": "7fneSnngFKkF"
      },
      "source": [
        ""
      ],
      "execution_count": null,
      "outputs": []
    },
    {
      "cell_type": "markdown",
      "metadata": {
        "id": "T26dxHXZFlRi"
      },
      "source": [
        "### Model 1"
      ]
    },
    {
      "cell_type": "code",
      "metadata": {
        "colab": {
          "base_uri": "https://localhost:8080/"
        },
        "id": "dci3wBpQFTuh",
        "outputId": "a337a3ae-f315-40ba-bbe3-7cb9e8aeb25e"
      },
      "source": [
        "model = Sequential()\r\n",
        "\r\n",
        "model.add(TimeDistributed(Conv2D(32, (3,3), padding='valid', strides=(1,1), activation='relu'),input_shape = (frame,32,32,4)))\r\n",
        "model.add(BatchNormalization())\r\n",
        "print (model.output_shape)\r\n",
        "\r\n",
        "model.add( TimeDistributed( Conv2D(64, (3,3),padding='valid', strides=(1,1), activation='relu')))\r\n",
        "model.add(BatchNormalization())\r\n",
        "model.add(Dropout(0.4))\r\n",
        "print(model.output_shape)\r\n",
        "\r\n",
        "\r\n",
        "model.add( TimeDistributed( Conv2D(128, (3,3),padding='valid', strides=(1,1), activation='relu')))\r\n",
        "model.add(BatchNormalization())\r\n",
        "model.add(Dropout(0.4))\r\n",
        "print (model.output_shape)\r\n",
        "\r\n",
        "\r\n",
        "model.add(TimeDistributed(Flatten()))\r\n",
        "print (model.output_shape)\r\n",
        "\r\n",
        "model.add(Dense(units = 512, activation = 'relu'))\r\n",
        "model.add(Dropout(0.5))\r\n",
        "print (model.output_shape)\r\n",
        "\r\n",
        "model.add(Dense(units = 512, activation = 'relu'))\r\n",
        "model.add(Dropout(0.5))\r\n",
        "print (model.output_shape)\r\n",
        "\r\n",
        "model.add(LSTM(units=512,return_sequences=False))\r\n",
        "model.add(Dropout(0.5))\r\n",
        "print (model.output_shape)\r\n",
        "\r\n",
        "print (model.output_shape)\r\n",
        "model.add(Dense(num_classes, activation='softmax'))"
      ],
      "execution_count": 20,
      "outputs": [
        {
          "output_type": "stream",
          "text": [
            "(None, 20, 30, 30, 32)\n",
            "(None, 20, 28, 28, 64)\n",
            "(None, 20, 26, 26, 128)\n",
            "(None, 20, 86528)\n",
            "(None, 20, 512)\n",
            "(None, 20, 512)\n",
            "(None, 512)\n",
            "(None, 512)\n"
          ],
          "name": "stdout"
        }
      ]
    },
    {
      "cell_type": "code",
      "metadata": {
        "colab": {
          "base_uri": "https://localhost:8080/"
        },
        "id": "fg5RfN3YNV0z",
        "outputId": "ca5cc94b-8249-4d2b-8c8e-cd4ca13a2744"
      },
      "source": [
        "model.summary()"
      ],
      "execution_count": 21,
      "outputs": [
        {
          "output_type": "stream",
          "text": [
            "Model: \"sequential\"\n",
            "_________________________________________________________________\n",
            "Layer (type)                 Output Shape              Param #   \n",
            "=================================================================\n",
            "time_distributed (TimeDistri (None, 20, 30, 30, 32)    1184      \n",
            "_________________________________________________________________\n",
            "batch_normalization (BatchNo (None, 20, 30, 30, 32)    128       \n",
            "_________________________________________________________________\n",
            "time_distributed_1 (TimeDist (None, 20, 28, 28, 64)    18496     \n",
            "_________________________________________________________________\n",
            "batch_normalization_1 (Batch (None, 20, 28, 28, 64)    256       \n",
            "_________________________________________________________________\n",
            "dropout (Dropout)            (None, 20, 28, 28, 64)    0         \n",
            "_________________________________________________________________\n",
            "time_distributed_2 (TimeDist (None, 20, 26, 26, 128)   73856     \n",
            "_________________________________________________________________\n",
            "batch_normalization_2 (Batch (None, 20, 26, 26, 128)   512       \n",
            "_________________________________________________________________\n",
            "dropout_1 (Dropout)          (None, 20, 26, 26, 128)   0         \n",
            "_________________________________________________________________\n",
            "time_distributed_3 (TimeDist (None, 20, 86528)         0         \n",
            "_________________________________________________________________\n",
            "dense (Dense)                (None, 20, 512)           44302848  \n",
            "_________________________________________________________________\n",
            "dropout_2 (Dropout)          (None, 20, 512)           0         \n",
            "_________________________________________________________________\n",
            "dense_1 (Dense)              (None, 20, 512)           262656    \n",
            "_________________________________________________________________\n",
            "dropout_3 (Dropout)          (None, 20, 512)           0         \n",
            "_________________________________________________________________\n",
            "lstm (LSTM)                  (None, 512)               2099200   \n",
            "_________________________________________________________________\n",
            "dropout_4 (Dropout)          (None, 512)               0         \n",
            "_________________________________________________________________\n",
            "dense_2 (Dense)              (None, 11)                5643      \n",
            "=================================================================\n",
            "Total params: 46,764,779\n",
            "Trainable params: 46,764,331\n",
            "Non-trainable params: 448\n",
            "_________________________________________________________________\n"
          ],
          "name": "stdout"
        }
      ]
    },
    {
      "cell_type": "code",
      "metadata": {
        "id": "Jzf-vgiehmkl"
      },
      "source": [
        "\r\n",
        "model.compile(loss='categorical_crossentropy',\r\n",
        "              optimizer=RMSprop(lr=1e-5),\r\n",
        "              metrics=['accuracy'])"
      ],
      "execution_count": 22,
      "outputs": []
    },
    {
      "cell_type": "code",
      "metadata": {
        "id": "WIToek5_HEIm"
      },
      "source": [
        "batch=32\r\n",
        "epoch=100 # it took approx 25 minutes"
      ],
      "execution_count": 23,
      "outputs": []
    },
    {
      "cell_type": "code",
      "metadata": {
        "colab": {
          "base_uri": "https://localhost:8080/"
        },
        "id": "Mx1x9lXWGy2D",
        "outputId": "2bfaa4a2-2396-413b-fe62-dd56528114b8"
      },
      "source": [
        "history=model.fit(x=x_train,y= y_train, batch_size= batch,epochs = epoch,validation_data = (x_val, y_val),verbose = 1)\r\n"
      ],
      "execution_count": 24,
      "outputs": [
        {
          "output_type": "stream",
          "text": [
            "Epoch 1/100\n",
            "43/43 [==============================] - 49s 311ms/step - loss: 2.4407 - accuracy: 0.1350 - val_loss: 2.3978 - val_accuracy: 0.0815\n",
            "Epoch 2/100\n",
            "43/43 [==============================] - 11s 257ms/step - loss: 2.2205 - accuracy: 0.2368 - val_loss: 2.4081 - val_accuracy: 0.0815\n",
            "Epoch 3/100\n",
            "43/43 [==============================] - 11s 257ms/step - loss: 2.0182 - accuracy: 0.3180 - val_loss: 2.4284 - val_accuracy: 0.0815\n",
            "Epoch 4/100\n",
            "43/43 [==============================] - 11s 259ms/step - loss: 1.9191 - accuracy: 0.3507 - val_loss: 2.4508 - val_accuracy: 0.1527\n",
            "Epoch 5/100\n",
            "43/43 [==============================] - 11s 259ms/step - loss: 1.7695 - accuracy: 0.4205 - val_loss: 2.4697 - val_accuracy: 0.1215\n",
            "Epoch 6/100\n",
            "43/43 [==============================] - 11s 260ms/step - loss: 1.6276 - accuracy: 0.4767 - val_loss: 2.4886 - val_accuracy: 0.1382\n",
            "Epoch 7/100\n",
            "43/43 [==============================] - 11s 261ms/step - loss: 1.5430 - accuracy: 0.5182 - val_loss: 2.4513 - val_accuracy: 0.1578\n",
            "Epoch 8/100\n",
            "43/43 [==============================] - 11s 262ms/step - loss: 1.4040 - accuracy: 0.5835 - val_loss: 2.4442 - val_accuracy: 0.1207\n",
            "Epoch 9/100\n",
            "43/43 [==============================] - 11s 262ms/step - loss: 1.2901 - accuracy: 0.5907 - val_loss: 2.3109 - val_accuracy: 0.1796\n",
            "Epoch 10/100\n",
            "43/43 [==============================] - 11s 263ms/step - loss: 1.2464 - accuracy: 0.6080 - val_loss: 2.1245 - val_accuracy: 0.2749\n",
            "Epoch 11/100\n",
            "43/43 [==============================] - 11s 263ms/step - loss: 1.1946 - accuracy: 0.6164 - val_loss: 1.9210 - val_accuracy: 0.3207\n",
            "Epoch 12/100\n",
            "43/43 [==============================] - 11s 264ms/step - loss: 1.0946 - accuracy: 0.6701 - val_loss: 1.6006 - val_accuracy: 0.3993\n",
            "Epoch 13/100\n",
            "43/43 [==============================] - 11s 264ms/step - loss: 1.0513 - accuracy: 0.6752 - val_loss: 1.3543 - val_accuracy: 0.4771\n",
            "Epoch 14/100\n",
            "43/43 [==============================] - 11s 265ms/step - loss: 0.9372 - accuracy: 0.7065 - val_loss: 1.1820 - val_accuracy: 0.5425\n",
            "Epoch 15/100\n",
            "43/43 [==============================] - 11s 266ms/step - loss: 0.8773 - accuracy: 0.7317 - val_loss: 1.0591 - val_accuracy: 0.5724\n",
            "Epoch 16/100\n",
            "43/43 [==============================] - 11s 267ms/step - loss: 0.8299 - accuracy: 0.7412 - val_loss: 0.8177 - val_accuracy: 0.6916\n",
            "Epoch 17/100\n",
            "43/43 [==============================] - 11s 267ms/step - loss: 0.7700 - accuracy: 0.7591 - val_loss: 0.8463 - val_accuracy: 0.6691\n",
            "Epoch 18/100\n",
            "43/43 [==============================] - 11s 267ms/step - loss: 0.7685 - accuracy: 0.7439 - val_loss: 0.7163 - val_accuracy: 0.7324\n",
            "Epoch 19/100\n",
            "43/43 [==============================] - 11s 268ms/step - loss: 0.7223 - accuracy: 0.7796 - val_loss: 0.8228 - val_accuracy: 0.6756\n",
            "Epoch 20/100\n",
            "43/43 [==============================] - 11s 268ms/step - loss: 0.7039 - accuracy: 0.7724 - val_loss: 0.6966 - val_accuracy: 0.7331\n",
            "Epoch 21/100\n",
            "43/43 [==============================] - 11s 268ms/step - loss: 0.6728 - accuracy: 0.7674 - val_loss: 0.6543 - val_accuracy: 0.7491\n",
            "Epoch 22/100\n",
            "43/43 [==============================] - 12s 269ms/step - loss: 0.6360 - accuracy: 0.8045 - val_loss: 0.6563 - val_accuracy: 0.7542\n",
            "Epoch 23/100\n",
            "43/43 [==============================] - 12s 269ms/step - loss: 0.5659 - accuracy: 0.8422 - val_loss: 0.6514 - val_accuracy: 0.7513\n",
            "Epoch 24/100\n",
            "43/43 [==============================] - 12s 270ms/step - loss: 0.5922 - accuracy: 0.8166 - val_loss: 0.6797 - val_accuracy: 0.7382\n",
            "Epoch 25/100\n",
            "43/43 [==============================] - 12s 270ms/step - loss: 0.5604 - accuracy: 0.8221 - val_loss: 0.5986 - val_accuracy: 0.7855\n",
            "Epoch 26/100\n",
            "43/43 [==============================] - 12s 269ms/step - loss: 0.5442 - accuracy: 0.8045 - val_loss: 0.5389 - val_accuracy: 0.8087\n",
            "Epoch 27/100\n",
            "43/43 [==============================] - 12s 270ms/step - loss: 0.4968 - accuracy: 0.8417 - val_loss: 0.5575 - val_accuracy: 0.7905\n",
            "Epoch 28/100\n",
            "43/43 [==============================] - 12s 271ms/step - loss: 0.4799 - accuracy: 0.8330 - val_loss: 0.5715 - val_accuracy: 0.7993\n",
            "Epoch 29/100\n",
            "43/43 [==============================] - 12s 271ms/step - loss: 0.4736 - accuracy: 0.8547 - val_loss: 0.5420 - val_accuracy: 0.8000\n",
            "Epoch 30/100\n",
            "43/43 [==============================] - 12s 271ms/step - loss: 0.4531 - accuracy: 0.8483 - val_loss: 0.5380 - val_accuracy: 0.8036\n",
            "Epoch 31/100\n",
            "43/43 [==============================] - 12s 270ms/step - loss: 0.4429 - accuracy: 0.8649 - val_loss: 0.5381 - val_accuracy: 0.8022\n",
            "Epoch 32/100\n",
            "43/43 [==============================] - 12s 270ms/step - loss: 0.4009 - accuracy: 0.8733 - val_loss: 0.6433 - val_accuracy: 0.7702\n",
            "Epoch 33/100\n",
            "43/43 [==============================] - 12s 270ms/step - loss: 0.4172 - accuracy: 0.8645 - val_loss: 0.5859 - val_accuracy: 0.7971\n",
            "Epoch 34/100\n",
            "43/43 [==============================] - 12s 270ms/step - loss: 0.3967 - accuracy: 0.8620 - val_loss: 0.5032 - val_accuracy: 0.8291\n",
            "Epoch 35/100\n",
            "43/43 [==============================] - 12s 270ms/step - loss: 0.3989 - accuracy: 0.8577 - val_loss: 0.5309 - val_accuracy: 0.8087\n",
            "Epoch 36/100\n",
            "43/43 [==============================] - 12s 270ms/step - loss: 0.3617 - accuracy: 0.8887 - val_loss: 0.5550 - val_accuracy: 0.8080\n",
            "Epoch 37/100\n",
            "43/43 [==============================] - 12s 270ms/step - loss: 0.3732 - accuracy: 0.8750 - val_loss: 0.6627 - val_accuracy: 0.7702\n",
            "Epoch 38/100\n",
            "43/43 [==============================] - 12s 270ms/step - loss: 0.3313 - accuracy: 0.8851 - val_loss: 0.5366 - val_accuracy: 0.8262\n",
            "Epoch 39/100\n",
            "43/43 [==============================] - 12s 270ms/step - loss: 0.3385 - accuracy: 0.8835 - val_loss: 0.5002 - val_accuracy: 0.8291\n",
            "Epoch 40/100\n",
            "43/43 [==============================] - 12s 270ms/step - loss: 0.3337 - accuracy: 0.8817 - val_loss: 0.5060 - val_accuracy: 0.8284\n",
            "Epoch 41/100\n",
            "43/43 [==============================] - 12s 271ms/step - loss: 0.3624 - accuracy: 0.8913 - val_loss: 0.6047 - val_accuracy: 0.7949\n",
            "Epoch 42/100\n",
            "43/43 [==============================] - 12s 270ms/step - loss: 0.3381 - accuracy: 0.8790 - val_loss: 0.5403 - val_accuracy: 0.8109\n",
            "Epoch 43/100\n",
            "43/43 [==============================] - 12s 269ms/step - loss: 0.3310 - accuracy: 0.8756 - val_loss: 0.4840 - val_accuracy: 0.8378\n",
            "Epoch 44/100\n",
            "43/43 [==============================] - 12s 270ms/step - loss: 0.3197 - accuracy: 0.8992 - val_loss: 0.5021 - val_accuracy: 0.8342\n",
            "Epoch 45/100\n",
            "43/43 [==============================] - 12s 270ms/step - loss: 0.2729 - accuracy: 0.9102 - val_loss: 0.5306 - val_accuracy: 0.8240\n",
            "Epoch 46/100\n",
            "43/43 [==============================] - 12s 270ms/step - loss: 0.3143 - accuracy: 0.8972 - val_loss: 0.5153 - val_accuracy: 0.8291\n",
            "Epoch 47/100\n",
            "43/43 [==============================] - 12s 270ms/step - loss: 0.2788 - accuracy: 0.9088 - val_loss: 0.5294 - val_accuracy: 0.8269\n",
            "Epoch 48/100\n",
            "43/43 [==============================] - 12s 270ms/step - loss: 0.2873 - accuracy: 0.9063 - val_loss: 0.4529 - val_accuracy: 0.8465\n",
            "Epoch 49/100\n",
            "43/43 [==============================] - 12s 270ms/step - loss: 0.2767 - accuracy: 0.9102 - val_loss: 0.4822 - val_accuracy: 0.8407\n",
            "Epoch 50/100\n",
            "43/43 [==============================] - 12s 270ms/step - loss: 0.2736 - accuracy: 0.9074 - val_loss: 0.4271 - val_accuracy: 0.8531\n",
            "Epoch 51/100\n",
            "43/43 [==============================] - 12s 270ms/step - loss: 0.2586 - accuracy: 0.9248 - val_loss: 0.4640 - val_accuracy: 0.8509\n",
            "Epoch 52/100\n",
            "43/43 [==============================] - 12s 270ms/step - loss: 0.2685 - accuracy: 0.9101 - val_loss: 0.4871 - val_accuracy: 0.8422\n",
            "Epoch 53/100\n",
            "43/43 [==============================] - 12s 270ms/step - loss: 0.2871 - accuracy: 0.9037 - val_loss: 0.5357 - val_accuracy: 0.8335\n",
            "Epoch 54/100\n",
            "43/43 [==============================] - 12s 270ms/step - loss: 0.2660 - accuracy: 0.9116 - val_loss: 0.4883 - val_accuracy: 0.8451\n",
            "Epoch 55/100\n",
            "43/43 [==============================] - 12s 270ms/step - loss: 0.2625 - accuracy: 0.9030 - val_loss: 0.4561 - val_accuracy: 0.8429\n",
            "Epoch 56/100\n",
            "43/43 [==============================] - 12s 270ms/step - loss: 0.2259 - accuracy: 0.9196 - val_loss: 0.4942 - val_accuracy: 0.8444\n",
            "Epoch 57/100\n",
            "43/43 [==============================] - 12s 270ms/step - loss: 0.2270 - accuracy: 0.9221 - val_loss: 0.6236 - val_accuracy: 0.8051\n",
            "Epoch 58/100\n",
            "43/43 [==============================] - 12s 269ms/step - loss: 0.2122 - accuracy: 0.9367 - val_loss: 0.4185 - val_accuracy: 0.8633\n",
            "Epoch 59/100\n",
            "43/43 [==============================] - 12s 270ms/step - loss: 0.2508 - accuracy: 0.9081 - val_loss: 0.4292 - val_accuracy: 0.8604\n",
            "Epoch 60/100\n",
            "43/43 [==============================] - 12s 271ms/step - loss: 0.1767 - accuracy: 0.9492 - val_loss: 0.4136 - val_accuracy: 0.8735\n",
            "Epoch 61/100\n",
            "43/43 [==============================] - 12s 270ms/step - loss: 0.1934 - accuracy: 0.9318 - val_loss: 0.4641 - val_accuracy: 0.8633\n",
            "Epoch 62/100\n",
            "43/43 [==============================] - 12s 270ms/step - loss: 0.1862 - accuracy: 0.9407 - val_loss: 0.3663 - val_accuracy: 0.8785\n",
            "Epoch 63/100\n",
            "43/43 [==============================] - 12s 270ms/step - loss: 0.2033 - accuracy: 0.9309 - val_loss: 0.4419 - val_accuracy: 0.8655\n",
            "Epoch 64/100\n",
            "43/43 [==============================] - 12s 270ms/step - loss: 0.1995 - accuracy: 0.9321 - val_loss: 0.4986 - val_accuracy: 0.8538\n",
            "Epoch 65/100\n",
            "43/43 [==============================] - 12s 270ms/step - loss: 0.1943 - accuracy: 0.9328 - val_loss: 0.4228 - val_accuracy: 0.8756\n",
            "Epoch 66/100\n",
            "43/43 [==============================] - 12s 270ms/step - loss: 0.2031 - accuracy: 0.9258 - val_loss: 0.4034 - val_accuracy: 0.8756\n",
            "Epoch 67/100\n",
            "43/43 [==============================] - 12s 271ms/step - loss: 0.1949 - accuracy: 0.9377 - val_loss: 0.3868 - val_accuracy: 0.8822\n",
            "Epoch 68/100\n",
            "43/43 [==============================] - 12s 270ms/step - loss: 0.1978 - accuracy: 0.9228 - val_loss: 0.3919 - val_accuracy: 0.8756\n",
            "Epoch 69/100\n",
            "43/43 [==============================] - 12s 270ms/step - loss: 0.1555 - accuracy: 0.9439 - val_loss: 0.4866 - val_accuracy: 0.8589\n",
            "Epoch 70/100\n",
            "43/43 [==============================] - 12s 270ms/step - loss: 0.1845 - accuracy: 0.9350 - val_loss: 0.3979 - val_accuracy: 0.8785\n",
            "Epoch 71/100\n",
            "43/43 [==============================] - 12s 271ms/step - loss: 0.1815 - accuracy: 0.9381 - val_loss: 0.4065 - val_accuracy: 0.8844\n",
            "Epoch 72/100\n",
            "43/43 [==============================] - 12s 271ms/step - loss: 0.1726 - accuracy: 0.9419 - val_loss: 0.4149 - val_accuracy: 0.8785\n",
            "Epoch 73/100\n",
            "43/43 [==============================] - 12s 270ms/step - loss: 0.1935 - accuracy: 0.9311 - val_loss: 0.3910 - val_accuracy: 0.8785\n",
            "Epoch 74/100\n",
            "43/43 [==============================] - 12s 270ms/step - loss: 0.1705 - accuracy: 0.9448 - val_loss: 0.4361 - val_accuracy: 0.8698\n",
            "Epoch 75/100\n",
            "43/43 [==============================] - 12s 271ms/step - loss: 0.1746 - accuracy: 0.9374 - val_loss: 0.4556 - val_accuracy: 0.8749\n",
            "Epoch 76/100\n",
            "43/43 [==============================] - 12s 270ms/step - loss: 0.1622 - accuracy: 0.9428 - val_loss: 0.4627 - val_accuracy: 0.8720\n",
            "Epoch 77/100\n",
            "43/43 [==============================] - 12s 270ms/step - loss: 0.1258 - accuracy: 0.9610 - val_loss: 0.4502 - val_accuracy: 0.8778\n",
            "Epoch 78/100\n",
            "43/43 [==============================] - 12s 270ms/step - loss: 0.1460 - accuracy: 0.9512 - val_loss: 0.3641 - val_accuracy: 0.8924\n",
            "Epoch 79/100\n",
            "43/43 [==============================] - 12s 270ms/step - loss: 0.1351 - accuracy: 0.9598 - val_loss: 0.4713 - val_accuracy: 0.8662\n",
            "Epoch 80/100\n",
            "43/43 [==============================] - 12s 270ms/step - loss: 0.1256 - accuracy: 0.9614 - val_loss: 0.4785 - val_accuracy: 0.8625\n",
            "Epoch 81/100\n",
            "43/43 [==============================] - 12s 270ms/step - loss: 0.1313 - accuracy: 0.9564 - val_loss: 0.4327 - val_accuracy: 0.8691\n",
            "Epoch 82/100\n",
            "43/43 [==============================] - 12s 270ms/step - loss: 0.1396 - accuracy: 0.9457 - val_loss: 0.3975 - val_accuracy: 0.8771\n",
            "Epoch 83/100\n",
            "43/43 [==============================] - 12s 270ms/step - loss: 0.1393 - accuracy: 0.9483 - val_loss: 0.4275 - val_accuracy: 0.8778\n",
            "Epoch 84/100\n",
            "43/43 [==============================] - 12s 270ms/step - loss: 0.1256 - accuracy: 0.9629 - val_loss: 0.4126 - val_accuracy: 0.8793\n",
            "Epoch 85/100\n",
            "43/43 [==============================] - 12s 270ms/step - loss: 0.1253 - accuracy: 0.9577 - val_loss: 0.4330 - val_accuracy: 0.8749\n",
            "Epoch 86/100\n",
            "43/43 [==============================] - 12s 270ms/step - loss: 0.1261 - accuracy: 0.9564 - val_loss: 0.4428 - val_accuracy: 0.8771\n",
            "Epoch 87/100\n",
            "43/43 [==============================] - 12s 270ms/step - loss: 0.1168 - accuracy: 0.9617 - val_loss: 0.4741 - val_accuracy: 0.8735\n",
            "Epoch 88/100\n",
            "43/43 [==============================] - 12s 270ms/step - loss: 0.1129 - accuracy: 0.9659 - val_loss: 0.4022 - val_accuracy: 0.8865\n",
            "Epoch 89/100\n",
            "43/43 [==============================] - 12s 271ms/step - loss: 0.1254 - accuracy: 0.9550 - val_loss: 0.4166 - val_accuracy: 0.8829\n",
            "Epoch 90/100\n",
            "43/43 [==============================] - 12s 270ms/step - loss: 0.1260 - accuracy: 0.9535 - val_loss: 0.3459 - val_accuracy: 0.9018\n",
            "Epoch 91/100\n",
            "43/43 [==============================] - 12s 270ms/step - loss: 0.1125 - accuracy: 0.9637 - val_loss: 0.4123 - val_accuracy: 0.8800\n",
            "Epoch 92/100\n",
            "43/43 [==============================] - 12s 270ms/step - loss: 0.1123 - accuracy: 0.9655 - val_loss: 0.4208 - val_accuracy: 0.8756\n",
            "Epoch 93/100\n",
            "43/43 [==============================] - 12s 270ms/step - loss: 0.0936 - accuracy: 0.9729 - val_loss: 0.4541 - val_accuracy: 0.8684\n",
            "Epoch 94/100\n",
            "43/43 [==============================] - 12s 270ms/step - loss: 0.1116 - accuracy: 0.9619 - val_loss: 0.4156 - val_accuracy: 0.8829\n",
            "Epoch 95/100\n",
            "43/43 [==============================] - 12s 270ms/step - loss: 0.0947 - accuracy: 0.9724 - val_loss: 0.3647 - val_accuracy: 0.8982\n",
            "Epoch 96/100\n",
            "43/43 [==============================] - 12s 270ms/step - loss: 0.0862 - accuracy: 0.9770 - val_loss: 0.3931 - val_accuracy: 0.8829\n",
            "Epoch 97/100\n",
            "43/43 [==============================] - 12s 271ms/step - loss: 0.0966 - accuracy: 0.9703 - val_loss: 0.5044 - val_accuracy: 0.8756\n",
            "Epoch 98/100\n",
            "43/43 [==============================] - 12s 271ms/step - loss: 0.0737 - accuracy: 0.9776 - val_loss: 0.4709 - val_accuracy: 0.8727\n",
            "Epoch 99/100\n",
            "43/43 [==============================] - 12s 271ms/step - loss: 0.0951 - accuracy: 0.9718 - val_loss: 0.4039 - val_accuracy: 0.8880\n",
            "Epoch 100/100\n",
            "43/43 [==============================] - 12s 270ms/step - loss: 0.1004 - accuracy: 0.9647 - val_loss: 0.4634 - val_accuracy: 0.8705\n"
          ],
          "name": "stdout"
        }
      ]
    },
    {
      "cell_type": "code",
      "metadata": {
        "colab": {
          "base_uri": "https://localhost:8080/",
          "height": 282
        },
        "id": "ZZXuSzZzqon8",
        "outputId": "325e0060-069a-4fda-92e5-f5fd8ebb64aa"
      },
      "source": [
        "#Plotting the training and validation loss and accuracy\r\n",
        "f,ax=plt.subplots(2,1) \r\n",
        "\r\n",
        "#Loss\r\n",
        "ax[0].plot(model.history.history['loss'],color='b',label='Training Loss')\r\n",
        "ax[0].plot(model.history.history['val_loss'],color='r',label='Validation Loss')\r\n",
        "\r\n",
        "#Accuracy\r\n",
        "ax[1].plot(model.history.history['accuracy'],color='b',label='Training  Accuracy')\r\n",
        "ax[1].plot(model.history.history['val_accuracy'],color='r',label='Validation Accuracy')"
      ],
      "execution_count": 25,
      "outputs": [
        {
          "output_type": "execute_result",
          "data": {
            "text/plain": [
              "[<matplotlib.lines.Line2D at 0x7f03384afa50>]"
            ]
          },
          "metadata": {
            "tags": []
          },
          "execution_count": 25
        },
        {
          "output_type": "display_data",
          "data": {
            "image/png": "[encoded data removed]",
            "text/plain": [
              "<Figure size 432x288 with 2 Axes>"
            ]
          },
          "metadata": {
            "tags": [],
            "needs_background": "light"
          }
        }
      ]
    },
    {
      "cell_type": "code",
      "metadata": {
        "id": "ZoGuuJa6q9cA"
      },
      "source": [
        "#Making prediction\r\n",
        "y_pred=np.argmax(model.predict(x_val),axis=-1)\r\n",
        "y_true=np.argmax(y_val,axis=1)"
      ],
      "execution_count": 26,
      "outputs": []
    },
    {
      "cell_type": "code",
      "metadata": {
        "colab": {
          "base_uri": "https://localhost:8080/"
        },
        "id": "FctJd8wpru0G",
        "outputId": "b58974db-7a82-4b64-8e7c-66a5175e27e5"
      },
      "source": [
        "print(y_pred,'\\n',y_true)"
      ],
      "execution_count": 27,
      "outputs": [
        {
          "output_type": "stream",
          "text": [
            "[10  5  3 ...  2  0  1] \n",
            " [7 5 3 ... 2 0 1]\n"
          ],
          "name": "stdout"
        }
      ]
    },
    {
      "cell_type": "code",
      "metadata": {
        "colab": {
          "base_uri": "https://localhost:8080/"
        },
        "id": "CknmqQ5jrtio",
        "outputId": "3576894c-1ea4-41b2-fb89-64209a96ffb3"
      },
      "source": [
        "conf_mx=confusion_matrix(y_true, y_pred)\r\n",
        "conf_mx"
      ],
      "execution_count": 28,
      "outputs": [
        {
          "output_type": "execute_result",
          "data": {
            "text/plain": [
              "array([[ 73,   0,  18,  40,   1,   0,   0,   2,   0,   0,   1],\n",
              "       [  0, 126,   1,   0,   1,   0,   0,   0,   0,   0,   0],\n",
              "       [  2,   0,  88,  32,   0,   0,   0,   1,   0,   0,   1],\n",
              "       [  2,   0,   4, 105,   0,   0,   0,   0,   0,   1,   0],\n",
              "       [  1,   0,   0,   4, 116,   0,   0,   0,   0,   0,   2],\n",
              "       [  0,   0,   0,   0,   0, 125,   0,   0,   0,   0,   0],\n",
              "       [  0,   0,   0,   0,   0,   0, 120,   0,   0,   0,   0],\n",
              "       [  2,   0,   1,   0,   0,   0,   0, 113,   0,   0,   8],\n",
              "       [  1,   0,   0,   8,   0,   0,   0,   0, 119,   1,   0],\n",
              "       [  0,   0,   0,   0,   0,   0,   0,   0,   0, 127,   0],\n",
              "       [  6,   0,  22,  10,   1,   0,   0,   4,   0,   0,  85]])"
            ]
          },
          "metadata": {
            "tags": []
          },
          "execution_count": 28
        }
      ]
    },
    {
      "cell_type": "code",
      "metadata": {
        "id": "oh8hVSQVPc-h"
      },
      "source": [
        ""
      ],
      "execution_count": null,
      "outputs": []
    },
    {
      "cell_type": "code",
      "metadata": {
        "id": "-LQOTvbZsHl5"
      },
      "source": [
        "## Normalization of confustion Matrix\r\n",
        "row_sums = conf_mx.sum(axis=1, keepdims=True)\r\n",
        "norm_conf_mx = conf_mx / row_sums\r\n",
        "np.fill_diagonal(norm_conf_mx, 0)"
      ],
      "execution_count": 29,
      "outputs": []
    },
    {
      "cell_type": "code",
      "metadata": {
        "colab": {
          "base_uri": "https://localhost:8080/",
          "height": 531
        },
        "id": "gW9aBT9ssM1s",
        "outputId": "4d4a8af8-af89-4603-bd46-47a388bcde8a"
      },
      "source": [
        "import seaborn as sns\r\n",
        "plt.figure(figsize=(12,8))\r\n",
        "#Defining the class labels\r\n",
        "class_names=['Pinch Index', 'Pinch Pinky', 'Finger Slide', 'Finger Rub', 'Slow Swipe', 'Fast Swipe', 'Push', 'Pull', 'Palm Tilt', 'Circle','Palm Hold']\r\n",
        "x_label, y_label=class_names,class_names\r\n",
        "sns.heatmap(norm_conf_mx, annot=True, fmt=\".3f\",xticklabels=x_label, yticklabels=y_label)\r\n",
        "plt.show()"
      ],
      "execution_count": 30,
      "outputs": [
        {
          "output_type": "display_data",
          "data": {
            "image/png": "[encoded data removed]",
            "text/plain": [
              "<Figure size 864x576 with 2 Axes>"
            ]
          },
          "metadata": {
            "tags": [],
            "needs_background": "light"
          }
        }
      ]
    }
  ]
}